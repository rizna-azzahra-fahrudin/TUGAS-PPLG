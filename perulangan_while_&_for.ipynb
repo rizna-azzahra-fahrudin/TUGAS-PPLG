{
  "nbformat": 4,
  "nbformat_minor": 0,
  "metadata": {
    "colab": {
      "provenance": [],
      "authorship_tag": "ABX9TyNEN7YShOckuyjy5wKxXN6n",
      "include_colab_link": true
    },
    "kernelspec": {
      "name": "python3",
      "display_name": "Python 3"
    },
    "language_info": {
      "name": "python"
    }
  },
  "cells": [
    {
      "cell_type": "markdown",
      "metadata": {
        "id": "view-in-github",
        "colab_type": "text"
      },
      "source": [
        "<a href=\"https://colab.research.google.com/github/rizna-azzahra-fahrudin/TUGAS-PPLG/blob/main/perulangan_while_%26_for.ipynb\" target=\"_parent\"><img src=\"https://colab.research.google.com/assets/colab-badge.svg\" alt=\"Open In Colab\"/></a>"
      ]
    },
    {
      "cell_type": "markdown",
      "source": [
        "# **FOR**\n",
        "(jumlah perulangannya sudah diketahui)"
      ],
      "metadata": {
        "id": "JWUvsFRHvLJH"
      }
    },
    {
      "cell_type": "code",
      "execution_count": 10,
      "metadata": {
        "colab": {
          "base_uri": "https://localhost:8080/"
        },
        "id": "udTZoLsPu39k",
        "outputId": "f0ffe080-5de0-432c-d5ed-a184241436bb"
      },
      "outputs": [
        {
          "output_type": "stream",
          "name": "stdout",
          "text": [
            "rizna\n",
            "azzahra\n",
            "fahrudin\n"
          ]
        }
      ],
      "source": [
        "#CONTOH 1\n",
        "listNama = ('rizna', 'azzahra', 'fahrudin')\n",
        "\n",
        "for nama in listNama :\n",
        "  print(nama)"
      ]
    },
    {
      "cell_type": "code",
      "source": [
        "#CONTOH 2\n",
        "listGenre = ('slice of life', 'comedy', 'horror', 'fantasi', 'sports', 'action', 'supernatural', 'drama')\n",
        "\n",
        "for genre in listGenre :\n",
        "  print(genre)"
      ],
      "metadata": {
        "colab": {
          "base_uri": "https://localhost:8080/"
        },
        "id": "gyH8Mx99xbO7",
        "outputId": "8e24789a-bbb5-4c3c-d9c8-e353aafea977"
      },
      "execution_count": 9,
      "outputs": [
        {
          "output_type": "stream",
          "name": "stdout",
          "text": [
            "slice of life\n",
            "comedy\n",
            "horror\n",
            "fantasi\n",
            "sports\n",
            "action\n",
            "supernatural\n",
            "drama\n"
          ]
        }
      ]
    },
    {
      "cell_type": "code",
      "source": [
        "#CONTOH 3\n",
        "for i in range (10) :\n",
        "  print (i)"
      ],
      "metadata": {
        "colab": {
          "base_uri": "https://localhost:8080/"
        },
        "id": "ee7QFZNbyjuS",
        "outputId": "5c1f53bf-f388-40e8-8c5f-2f46070c1dcf"
      },
      "execution_count": 5,
      "outputs": [
        {
          "output_type": "stream",
          "name": "stdout",
          "text": [
            "0\n",
            "1\n",
            "2\n",
            "3\n",
            "4\n",
            "5\n",
            "6\n",
            "7\n",
            "8\n",
            "9\n"
          ]
        }
      ]
    },
    {
      "cell_type": "code",
      "source": [
        "#CONTOH 4\n",
        "for i in range (7) :\n",
        "  print (i)"
      ],
      "metadata": {
        "colab": {
          "base_uri": "https://localhost:8080/"
        },
        "id": "5e3wNsofzDZ3",
        "outputId": "459de080-b84b-42c3-9d99-b855a53a71a8"
      },
      "execution_count": 7,
      "outputs": [
        {
          "output_type": "stream",
          "name": "stdout",
          "text": [
            "0\n",
            "1\n",
            "2\n",
            "3\n",
            "4\n",
            "5\n",
            "6\n"
          ]
        }
      ]
    },
    {
      "cell_type": "code",
      "source": [
        "#CONTOH 5\n",
        "for karakter in \"rizna\" :\n",
        "  print (karakter)"
      ],
      "metadata": {
        "colab": {
          "base_uri": "https://localhost:8080/"
        },
        "id": "Rpz0zVg6zXBL",
        "outputId": "8af33c5e-452a-46a6-dc89-43a3024b877a"
      },
      "execution_count": 12,
      "outputs": [
        {
          "output_type": "stream",
          "name": "stdout",
          "text": [
            "r\n",
            "i\n",
            "z\n",
            "n\n",
            "a\n"
          ]
        }
      ]
    },
    {
      "cell_type": "code",
      "source": [
        "#CONTOH 6\n",
        "for karakter in \"kucing\" :\n",
        "  print (karakter)"
      ],
      "metadata": {
        "colab": {
          "base_uri": "https://localhost:8080/"
        },
        "id": "wodvpdiK0sTZ",
        "outputId": "044c501a-64ed-4ff7-ae21-e0aced4309b5"
      },
      "execution_count": 13,
      "outputs": [
        {
          "output_type": "stream",
          "name": "stdout",
          "text": [
            "k\n",
            "u\n",
            "c\n",
            "i\n",
            "n\n",
            "g\n"
          ]
        }
      ]
    },
    {
      "cell_type": "code",
      "source": [
        "#CONTOH 7\n",
        "for i in range (10) :\n",
        "  print (\"perulangan ke -\", i)"
      ],
      "metadata": {
        "colab": {
          "base_uri": "https://localhost:8080/"
        },
        "id": "3OETQgg_0-Bx",
        "outputId": "3bcfc9cf-0681-49ed-dbd1-2703c50c570d"
      },
      "execution_count": 17,
      "outputs": [
        {
          "output_type": "stream",
          "name": "stdout",
          "text": [
            "perulangan ke - 0\n",
            "perulangan ke - 1\n",
            "perulangan ke - 2\n",
            "perulangan ke - 3\n",
            "perulangan ke - 4\n",
            "perulangan ke - 5\n",
            "perulangan ke - 6\n",
            "perulangan ke - 7\n",
            "perulangan ke - 8\n",
            "perulangan ke - 9\n"
          ]
        }
      ]
    },
    {
      "cell_type": "code",
      "source": [
        "#CONTOH 8\n",
        "for i in range (5) :\n",
        "  print (\"perulangan ke -\", i)"
      ],
      "metadata": {
        "colab": {
          "base_uri": "https://localhost:8080/"
        },
        "id": "kB1ZbnQh2J07",
        "outputId": "6c13d1e6-0a24-4e04-da31-b2e1461d418a"
      },
      "execution_count": 19,
      "outputs": [
        {
          "output_type": "stream",
          "name": "stdout",
          "text": [
            "perulangan ke - 0\n",
            "perulangan ke - 1\n",
            "perulangan ke - 2\n",
            "perulangan ke - 3\n",
            "perulangan ke - 4\n"
          ]
        }
      ]
    },
    {
      "cell_type": "markdown",
      "source": [
        "# **WHILE**\n",
        "(jumlah perulangannya belum diketahui)"
      ],
      "metadata": {
        "id": "GBNZni4o2nA4"
      }
    },
    {
      "cell_type": "code",
      "source": [
        "#CONTOH 1\n",
        "i = 1\n",
        "while i <= 10 :\n",
        "  print (i)\n",
        "  i += 2"
      ],
      "metadata": {
        "colab": {
          "base_uri": "https://localhost:8080/"
        },
        "id": "7Lu7LBj0283y",
        "outputId": "28b1c0af-abd0-451a-e028-9b9e957f9810"
      },
      "execution_count": 23,
      "outputs": [
        {
          "output_type": "stream",
          "name": "stdout",
          "text": [
            "1\n",
            "3\n",
            "5\n",
            "7\n",
            "9\n"
          ]
        }
      ]
    },
    {
      "cell_type": "code",
      "source": [
        "#CONTOH 2\n",
        "i = 2\n",
        "while i <= 20 :\n",
        "  print (i)\n",
        "  i += 4"
      ],
      "metadata": {
        "colab": {
          "base_uri": "https://localhost:8080/"
        },
        "id": "D4JWFRXG4QZ2",
        "outputId": "0c8bbb57-4a21-41fb-d02d-8184ea7269b2"
      },
      "execution_count": 26,
      "outputs": [
        {
          "output_type": "stream",
          "name": "stdout",
          "text": [
            "2\n",
            "6\n",
            "10\n",
            "14\n",
            "18\n"
          ]
        }
      ]
    },
    {
      "cell_type": "code",
      "source": [
        "#CONTOH 3\n",
        "listNama = ('rizna', 'azzahra', 'fahrudin')\n",
        "i = 0\n",
        "while i < len(listNama) :\n",
        "  print (listNama[i])\n",
        "  i += 1"
      ],
      "metadata": {
        "colab": {
          "base_uri": "https://localhost:8080/"
        },
        "collapsed": true,
        "id": "x8MS9TsT5GTQ",
        "outputId": "33602ca2-8f11-46dd-bc1f-85109d923da6"
      },
      "execution_count": 1,
      "outputs": [
        {
          "output_type": "stream",
          "name": "stdout",
          "text": [
            "rizna\n",
            "azzahra\n",
            "fahrudin\n"
          ]
        }
      ]
    },
    {
      "cell_type": "code",
      "source": [
        "#CONTOH 4\n",
        "listNegara = ('indonesia', 'jepang', 'thailand', 'china', 'singapura')\n",
        "i = 0\n",
        "while i < len (listNegara) :\n",
        "  print (listNegara[i])\n",
        "  i += 1"
      ],
      "metadata": {
        "colab": {
          "base_uri": "https://localhost:8080/"
        },
        "id": "qhZIKAd7-hCZ",
        "outputId": "5895fc93-54eb-44e5-9a21-56615b421fd5"
      },
      "execution_count": 2,
      "outputs": [
        {
          "output_type": "stream",
          "name": "stdout",
          "text": [
            "indonesia\n",
            "jepang\n",
            "thailand\n",
            "china\n",
            "singapura\n"
          ]
        }
      ]
    }
  ]
}
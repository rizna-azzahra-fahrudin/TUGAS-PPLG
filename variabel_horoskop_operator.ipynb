{
  "nbformat": 4,
  "nbformat_minor": 0,
  "metadata": {
    "colab": {
      "provenance": [],
      "mount_file_id": "1fim7U7y0-A-g5drzEKyVBDA2n9yoJcXG",
      "authorship_tag": "ABX9TyN6PxBcnA5OisrDIEktI8KM",
      "include_colab_link": true
    },
    "kernelspec": {
      "name": "python3",
      "display_name": "Python 3"
    },
    "language_info": {
      "name": "python"
    }
  },
  "cells": [
    {
      "cell_type": "markdown",
      "metadata": {
        "id": "view-in-github",
        "colab_type": "text"
      },
      "source": [
        "<a href=\"https://colab.research.google.com/github/rizna-azzahra-fahrudin/TUGAS-PPLG/blob/main/variabel_horoskop_operator.ipynb\" target=\"_parent\"><img src=\"https://colab.research.google.com/assets/colab-badge.svg\" alt=\"Open In Colab\"/></a>"
      ]
    },
    {
      "cell_type": "markdown",
      "source": [
        "# Variabel Python\n",
        "int = angka (0-9)\n",
        "\n",
        "string = \"huruf A-Z\" dan karakter (!@_-}?)\n",
        "\n",
        "float = desimal (1,5 - 2,9 - 4,1)"
      ],
      "metadata": {
        "id": "XJgZgopdcvFG"
      }
    },
    {
      "cell_type": "markdown",
      "source": [
        "# Tugas Variabel Python"
      ],
      "metadata": {
        "id": "wzNrXRUSebpN"
      }
    },
    {
      "cell_type": "code",
      "execution_count": null,
      "metadata": {
        "colab": {
          "base_uri": "https://localhost:8080/"
        },
        "id": "zg5mmYRZcloK",
        "outputId": "14a3e555-d974-4424-9e5a-f208ad6d07d6"
      },
      "outputs": [
        {
          "output_type": "stream",
          "name": "stdout",
          "text": [
            "14\n",
            "5\n"
          ]
        }
      ],
      "source": [
        "#INT\n",
        "z = 9\n",
        "x = 5\n",
        "y = z + x\n",
        "print (y)\n",
        "\n",
        "r = 2\n",
        "s = 3\n",
        "n = r + s\n",
        "print (n)"
      ]
    },
    {
      "cell_type": "code",
      "source": [
        "#STRING\n",
        "\n",
        "a = 'rizna'\n",
        "b = 'azzahra'\n",
        "c = a + b\n",
        "print(c)\n",
        "\n",
        "a = 'profesor'\n",
        "b = '!'\n",
        "c = a + b\n",
        "print(c)"
      ],
      "metadata": {
        "colab": {
          "base_uri": "https://localhost:8080/"
        },
        "id": "TmKxlTg1fzqa",
        "outputId": "64876d60-ef05-4935-b57c-b271d013052a"
      },
      "execution_count": null,
      "outputs": [
        {
          "output_type": "stream",
          "name": "stdout",
          "text": [
            "riznaazzahra\n",
            "profesor!\n"
          ]
        }
      ]
    },
    {
      "cell_type": "code",
      "source": [
        "#FLOAT\n",
        "m = 1,5\n",
        "y = 2,7\n",
        "x = m + y\n",
        "print (x)\n",
        "\n",
        "a = 7,1\n",
        "b = 2,6\n",
        "c = a + b\n",
        "print (c)"
      ],
      "metadata": {
        "colab": {
          "base_uri": "https://localhost:8080/"
        },
        "id": "Jni6E5se2fRh",
        "outputId": "ad4f4b36-348e-4e8f-e90f-e831d3620424"
      },
      "execution_count": null,
      "outputs": [
        {
          "output_type": "stream",
          "name": "stdout",
          "text": [
            "(1, 5, 2, 7)\n",
            "(7, 1, 2, 6)\n"
          ]
        }
      ]
    },
    {
      "cell_type": "markdown",
      "source": [
        "# Tugas Horoskop"
      ],
      "metadata": {
        "id": "pZepOxmbH1nw"
      }
    },
    {
      "cell_type": "code",
      "source": [
        "a = input (\"nama teman 1 :\")\n",
        "b = input (\"nama teman 2 :\")\n",
        "print (\"berdasarkan hasil kesepakatan :\" ,a , \"dan\" ,b , \"cocok menjadi pengurus kelas\")"
      ],
      "metadata": {
        "colab": {
          "base_uri": "https://localhost:8080/"
        },
        "id": "JFyuHScFH-ay",
        "outputId": "c535c41a-34c8-441d-a8ff-24e9faa7d108"
      },
      "execution_count": null,
      "outputs": [
        {
          "output_type": "stream",
          "name": "stdout",
          "text": [
            "nama teman 1 :sasa\n",
            "nama teman 2 :fulo\n",
            "berdasarkan hasil kesepakatan : sasa dan fulo cocok menjadi pengurus kelas\n"
          ]
        }
      ]
    },
    {
      "cell_type": "markdown",
      "source": [
        "# Tugas Operator Aritmatika"
      ],
      "metadata": {
        "id": "dnXTB2zOJYat"
      }
    },
    {
      "cell_type": "code",
      "source": [
        "#1. pertambahan\n",
        "a = 43\n",
        "b = 56\n",
        "c = a + b\n",
        "print (c)\n",
        "\n",
        "#2. pengurangan\n",
        "a = 64\n",
        "b = 30\n",
        "c = a - b\n",
        "print (c)\n",
        "\n",
        "#3. perkalian\n",
        "a = 77\n",
        "b = 4\n",
        "c = a * b\n",
        "print (c)\n",
        "\n",
        "#4. pembagian\n",
        "a = 88\n",
        "b = 8\n",
        "c = a / b\n",
        "print (c)\n",
        "\n",
        "#5. perpangkatan\n",
        "a = 5\n",
        "b = 2\n",
        "c = a**b\n",
        "print (c)\n",
        "\n",
        "#6. modulus\n",
        "a = 55\n",
        "b = 10\n",
        "c = a % b\n",
        "print (c)"
      ],
      "metadata": {
        "colab": {
          "base_uri": "https://localhost:8080/"
        },
        "id": "kImVldxgJlCg",
        "outputId": "4860ce71-1bd9-4823-b32c-021131cde38a"
      },
      "execution_count": null,
      "outputs": [
        {
          "output_type": "stream",
          "name": "stdout",
          "text": [
            "99\n",
            "34\n",
            "308\n",
            "11.0\n",
            "25\n",
            "5\n"
          ]
        }
      ]
    },
    {
      "cell_type": "markdown",
      "source": [
        "# Tugas Operator Perbandingan"
      ],
      "metadata": {
        "id": "mItYTee-K26h"
      }
    },
    {
      "cell_type": "code",
      "source": [
        "#1. lebih besar >\n",
        "a = 88\n",
        "b = 75\n",
        "c = a > b\n",
        "print (c)\n",
        "\n",
        "#2. lebih kecil <\n",
        "a = 20\n",
        "b = 57\n",
        "c = a < b\n",
        "print (c)\n",
        "\n",
        "#3. lebih besar >=\n",
        "a = 100\n",
        "b = 72\n",
        "c = a >= b\n",
        "print (c)\n",
        "\n",
        "#4. lebih kecil <=\n",
        "a = 2\n",
        "b = 50\n",
        "c = a <= b\n",
        "print (c)\n",
        "\n",
        "#5. tidak sama !=\n",
        "a = \"bersih\"\n",
        "b = \"kotor\"\n",
        "c = a != b\n",
        "print (c)\n",
        "\n",
        "#6. sama dengan ==\n",
        "a = \"tinggi\"\n",
        "b = \"tinggi\"\n",
        "c = a == b\n",
        "print (c)"
      ],
      "metadata": {
        "colab": {
          "base_uri": "https://localhost:8080/"
        },
        "id": "hBssB4lIKzia",
        "outputId": "f0b582e6-cdde-4a78-e994-8d27fbb088e8"
      },
      "execution_count": null,
      "outputs": [
        {
          "output_type": "stream",
          "name": "stdout",
          "text": [
            "True\n",
            "True\n",
            "True\n",
            "True\n",
            "True\n",
            "True\n"
          ]
        }
      ]
    }
  ]
}
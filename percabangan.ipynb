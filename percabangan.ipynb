{
  "nbformat": 4,
  "nbformat_minor": 0,
  "metadata": {
    "colab": {
      "provenance": [],
      "authorship_tag": "ABX9TyNEk3sun17R0ICVNuiRPgSH",
      "include_colab_link": true
    },
    "kernelspec": {
      "name": "python3",
      "display_name": "Python 3"
    },
    "language_info": {
      "name": "python"
    }
  },
  "cells": [
    {
      "cell_type": "markdown",
      "metadata": {
        "id": "view-in-github",
        "colab_type": "text"
      },
      "source": [
        "<a href=\"https://colab.research.google.com/github/rizna-azzahra-fahrudin/TUGAS-PPLG/blob/main/percabangan.ipynb\" target=\"_parent\"><img src=\"https://colab.research.google.com/assets/colab-badge.svg\" alt=\"Open In Colab\"/></a>"
      ]
    },
    {
      "cell_type": "markdown",
      "source": [
        "# PERCABANGAN\n",
        "PERCABANGAN adalah cara yang digunakan untuk mengambil keputusan apabila di dalam program dihadapkan pada beberapa kondisi tertentu. Fungsi ini akan mengevaluasi kondisi atau ekpresi yang hasilnya hanya akan dua yaitu true atau false.\n",
        "\n",
        "# IF\n",
        "IF adalah salah satu pernyataan penyeleksian yang memungkinkan kita memanipulasi aliran jalannya program berdasarkan conditional expression. Jika kondisi tersebut benar (true), maka blok kode yang terkait dengan if akan dijalankan.\n",
        "\n",
        "# ELIF\n",
        "ELIF adalah singkatan dari 'else if' dan digunakan untuk mengevaluasi beberapa kondisi berurutan. Jika kondisi dalam if tidak terpenuhi, maka Pyhton akan mengevaluasi kondisi dalam elif.\n",
        "\n",
        "# ELSE\n",
        "ELSE adalah pilihan terakhir yang akan dijalankan jika semua pillihan tidak memiliki nilai benar (true) pada kondisi yang ada. ELSE merupakan pernyataan opsional untuk digunakan berdasarkan kebutuhan, jika tidak menggunakan pernyataan else maka keseluruhan dari pernyataan IF akan diabaikan."
      ],
      "metadata": {
        "id": "YZwRNm_q--5O"
      }
    },
    {
      "cell_type": "code",
      "execution_count": null,
      "metadata": {
        "colab": {
          "base_uri": "https://localhost:8080/"
        },
        "id": "rdIHBPsr-kmv",
        "outputId": "7fccf2b3-7f1e-450e-f4f2-7ba99f391230"
      },
      "outputs": [
        {
          "output_type": "stream",
          "name": "stdout",
          "text": [
            "umur anda 15\n",
            "kamu belum boleh membuat KTP\n"
          ]
        }
      ],
      "source": [
        "#CONTOH PERCABANGAN 1 KONDISI\n",
        "\n",
        "umur = int (input(\"umur anda \"))\n",
        "if umur < 17 :\n",
        "  print (\"kamu belum boleh membuat KTP\")"
      ]
    },
    {
      "cell_type": "code",
      "source": [
        "#CONTOH PERCABANGAN 2 KONDISI\n",
        "\n",
        "umur = int (input(\"umur anda \"))\n",
        "if umur < 18 :\n",
        "  print (\"kamu belum boleh membuat SIM\") #true\n",
        "else :\n",
        "  print (\"kamu boleh membuat SIM\") #false"
      ],
      "metadata": {
        "colab": {
          "base_uri": "https://localhost:8080/"
        },
        "id": "X-9vawY_EKtH",
        "outputId": "39a58dbe-6dba-4001-e064-dcc022689a55"
      },
      "execution_count": null,
      "outputs": [
        {
          "output_type": "stream",
          "name": "stdout",
          "text": [
            "umur anda 20\n",
            "kamu boleh membuat SIM\n"
          ]
        }
      ]
    },
    {
      "cell_type": "code",
      "source": [
        "#CONTOH PERCABANGAN 3 KONDISI\n",
        "\n",
        "nilai = int (input(\"nilai anda \"))\n",
        "if nilai >= 80 :\n",
        "  print (\"kamu mendapat nilai A\") #true\n",
        "elif nilai >= 70 :\n",
        "  print (\"kamu mendapat nilai B\") #true&false\n",
        "elif nilai >= 60 :\n",
        "  print (\"kamu mendapat nilai C\") #false"
      ],
      "metadata": {
        "colab": {
          "base_uri": "https://localhost:8080/"
        },
        "id": "fiR6DkppJxRE",
        "outputId": "76609326-e6eb-4ded-f8dd-81eee0bcbf9d"
      },
      "execution_count": null,
      "outputs": [
        {
          "output_type": "stream",
          "name": "stdout",
          "text": [
            "nilai anda 90\n",
            "kamu mendapat nilai A\n"
          ]
        }
      ]
    },
    {
      "cell_type": "code",
      "source": [
        "#CONTOH PERCABANGAN 4 KONDISI\n",
        "\n",
        "umur = int (input(\"umur anda \"))\n",
        "if umur <= 10 :\n",
        "  print (\"anda masih anak anak\") #true\n",
        "elif umur >= 15 :\n",
        "  print (\"anda masih remaja\") #true&false\n",
        "elif umur >= 25 :\n",
        "  print (\"anda sudah dewasa\") #true&false\n",
        "else :\n",
        "  print (\"anda sudah tua\") #false"
      ],
      "metadata": {
        "colab": {
          "base_uri": "https://localhost:8080/"
        },
        "id": "9DGORoAuLHyg",
        "outputId": "6be52780-108e-4594-ac40-2ee2292221e7"
      },
      "execution_count": null,
      "outputs": [
        {
          "output_type": "stream",
          "name": "stdout",
          "text": [
            "umur anda 16\n",
            "anda masih remaja\n"
          ]
        }
      ]
    },
    {
      "cell_type": "code",
      "source": [
        "#CONTOH PERCABANGAN 5 KONDISI\n",
        "\n",
        "suhu = int (input(\"suhu saat ini \"))\n",
        "if suhu >= 40 :\n",
        "  print (\"suhu panas\") #true\n",
        "elif suhu >= 30 :\n",
        "  print (\"suhu dingin\") #true&false\n",
        "elif suhu >= 20 :\n",
        "  print (\"suhu hangat\") #true&false\n",
        "elif suhu >= 10 :\n",
        "  print (\"suhu sejuk\") #true&false\n",
        "else :\n",
        "  print (\"dingin\") #false"
      ],
      "metadata": {
        "colab": {
          "base_uri": "https://localhost:8080/"
        },
        "id": "OOy6uVh5M6V6",
        "outputId": "7a455778-5437-42cb-c8f5-c602af4fceef"
      },
      "execution_count": null,
      "outputs": [
        {
          "output_type": "stream",
          "name": "stdout",
          "text": [
            "suhu saat ini 35\n",
            "suhu dingin\n"
          ]
        }
      ]
    },
    {
      "cell_type": "code",
      "source": [
        "#CONTOH PERCABANGAN 6 KONDISI\n",
        "\n",
        "rasa = int(input(\"rasa makanan ini \"))\n",
        "if rasa == 1:\n",
        "  print (\"manis\") #true\n",
        "elif rasa == 2:\n",
        "  print (\"gurih\") #true&false\n",
        "elif rasa == 3:\n",
        "  print (\"pedas\") #true&false\n",
        "elif rasa == 4:\n",
        "  print (\"pahit\") #true&false\n",
        "elif rasa == 5:\n",
        "  print (\"asin\") #true&false\n",
        "else :\n",
        "    print (\"hambar\") #false"
      ],
      "metadata": {
        "colab": {
          "base_uri": "https://localhost:8080/"
        },
        "id": "Gq7LW6qyVwk_",
        "outputId": "7061e99d-6ae0-4923-f966-92febd920fe4"
      },
      "execution_count": null,
      "outputs": [
        {
          "output_type": "stream",
          "name": "stdout",
          "text": [
            "rasa makanan ini 6\n",
            "hambar\n"
          ]
        }
      ]
    },
    {
      "cell_type": "code",
      "source": [
        "#CONTOH PERCABANGAN 7 KONDISI\n",
        "\n",
        "hari = int(input(\"hari ke \"))\n",
        "if hari == 1:\n",
        "  print (\"senin\") #true\n",
        "elif hari == 2:\n",
        "  print (\"selasa\") #true&false\n",
        "elif hari == 3:\n",
        "  print (\"rabu\") #true&false\n",
        "elif hari == 4:\n",
        "  print (\"kamis\") #true&false\n",
        "elif hari == 5:\n",
        "    print (\"jumat\") #true&false\n",
        "elif hari == 6:\n",
        "    print (\"sabtu\") #true&false\n",
        "else :\n",
        "    print (\"minggu\") #false"
      ],
      "metadata": {
        "colab": {
          "base_uri": "https://localhost:8080/"
        },
        "id": "_viNO2YPYkKk",
        "outputId": "d8a61e21-aad0-4b1a-e972-b333e9c0538a"
      },
      "execution_count": null,
      "outputs": [
        {
          "output_type": "stream",
          "name": "stdout",
          "text": [
            "hari ke 7\n",
            "minggu\n"
          ]
        }
      ]
    }
  ]
}
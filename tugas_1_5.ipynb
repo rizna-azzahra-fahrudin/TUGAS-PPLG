{
  "nbformat": 4,
  "nbformat_minor": 0,
  "metadata": {
    "colab": {
      "provenance": [],
      "authorship_tag": "ABX9TyPCSSNXRkwSw3PliBfui3RX",
      "include_colab_link": true
    },
    "kernelspec": {
      "name": "python3",
      "display_name": "Python 3"
    },
    "language_info": {
      "name": "python"
    }
  },
  "cells": [
    {
      "cell_type": "markdown",
      "metadata": {
        "id": "view-in-github",
        "colab_type": "text"
      },
      "source": [
        "<a href=\"https://colab.research.google.com/github/rizna-azzahra-fahrudin/TUGAS-PPLG/blob/main/tugas_1_5.ipynb\" target=\"_parent\"><img src=\"https://colab.research.google.com/assets/colab-badge.svg\" alt=\"Open In Colab\"/></a>"
      ]
    },
    {
      "cell_type": "code",
      "execution_count": null,
      "metadata": {
        "colab": {
          "base_uri": "https://localhost:8080/"
        },
        "id": "o0TRBI5Jg26Y",
        "outputId": "a4479192-d2ed-4564-e361-01c79b59041b"
      },
      "outputs": [
        {
          "output_type": "stream",
          "name": "stdout",
          "text": [
            "masukkan jumlah pembelian :600\n",
            "mendapatkan diskon 20%\n"
          ]
        }
      ],
      "source": [
        "#pembelian\n",
        "pembelian = int (input(\"masukkan jumlah pembelian :\"))\n",
        "if diskon <= 100.000 :\n",
        "  print (\"tidak mendapatkan diskon\") #true\n",
        "elif diskon <= 500.000 :\n",
        "  print (\"mendapatkan diskon 10%\") #true&false\n",
        "elif diskon >= 500.000 :\n",
        "  print (\"mendapatkan diskon 20%\") #true&false"
      ]
    },
    {
      "cell_type": "code",
      "source": [
        "#UMUR\n",
        "umur = int (input(\"masukkan umur :\"))\n",
        "if umur <= 12 :\n",
        "  print (\"anak anak\") #true\n",
        "elif umur <= 18 :\n",
        "  print (\"remaja\") #true&false\n",
        "elif umur <= 64 :\n",
        "  print (\"dewasa\") #true&false\n",
        "else :\n",
        "  print (\"lansia\") #false"
      ],
      "metadata": {
        "colab": {
          "base_uri": "https://localhost:8080/"
        },
        "id": "hdC2EVvkmYUY",
        "outputId": "4f95e6cf-5b29-4dd0-91d5-17afbc72a001"
      },
      "execution_count": null,
      "outputs": [
        {
          "output_type": "stream",
          "name": "stdout",
          "text": [
            "masukkan umur :16\n",
            "remaja\n"
          ]
        }
      ]
    },
    {
      "cell_type": "code",
      "source": [
        "penilaian = int (input(\"masukkan nilai siswa :\"))\n",
        "if penilaian >= 90 :\n",
        "  print (\"sangat baik\") #true\n",
        "elif penilaian >= 70 :\n",
        "  print (\"baik\") #true&false\n",
        "elif penilaian >= 50 :\n",
        "  print (\"cukup\") #true&false\n",
        "else :\n",
        "  print (\"kurang\") #false"
      ],
      "metadata": {
        "colab": {
          "base_uri": "https://localhost:8080/"
        },
        "id": "SUpq0AvWqhBK",
        "outputId": "9ee08e52-8269-494b-a9a7-92189527a960"
      },
      "execution_count": null,
      "outputs": [
        {
          "output_type": "stream",
          "name": "stdout",
          "text": [
            "masukkan nilai siswa :95\n",
            "sangat baik\n"
          ]
        }
      ]
    },
    {
      "cell_type": "code",
      "source": [
        "pengecekan = int (input(\"masukkan tahun kabisat :\"))\n",
        "if pengecekan % 4 == 0 :\n",
        "  if pengecekan % 100 == 0 :\n",
        "    if pengecekan % 400 == 0 :\n",
        "      print (\"tahun kabisat\") #true\n",
        "    else :\n",
        "      print (\"bukan tahun kabisat\") #false"
      ],
      "metadata": {
        "colab": {
          "base_uri": "https://localhost:8080/"
        },
        "id": "JkdzBNFdr0q2",
        "outputId": "5e2f7ca1-54f6-4134-e0ae-37a50d8bf09a"
      },
      "execution_count": null,
      "outputs": [
        {
          "output_type": "stream",
          "name": "stdout",
          "text": [
            "masukkan tahun kabisat :200\n",
            "bukan tahun kabisat\n"
          ]
        }
      ]
    },
    {
      "cell_type": "code",
      "source": [
        "a = int (input(\"masukkan angka pertama \"))\n",
        "b = int (input(\"masukkan angka kedua\"))\n",
        "c = input (\"masukkan operasi \")\n",
        "if c == \"+\" :\n",
        "  print (a + b) #true\n",
        "elif c == \"*\" :\n",
        "  print (a * b) #true&false"
      ],
      "metadata": {
        "colab": {
          "base_uri": "https://localhost:8080/"
        },
        "id": "Yx78EtrOuanq",
        "outputId": "63ea083e-6137-43f3-f289-5a61200c8f1f"
      },
      "execution_count": null,
      "outputs": [
        {
          "output_type": "stream",
          "name": "stdout",
          "text": [
            "masukkan angka pertama 40\n",
            "masukkan angka kedua2\n",
            "masukkan operasi *\n",
            "80\n"
          ]
        }
      ]
    }
  ]
}